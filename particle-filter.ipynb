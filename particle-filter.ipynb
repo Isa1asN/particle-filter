{
 "cells": [
  {
   "cell_type": "code",
   "execution_count": 23,
   "metadata": {},
   "outputs": [],
   "source": [
    "from math import sqrt, exp, pi, cos, sin\n",
    "import random\n",
    "import matplotlib\n",
    "matplotlib.use('Agg')\n",
    "import matplotlib.pyplot as plt"
   ]
  },
  {
   "cell_type": "code",
   "execution_count": 24,
   "metadata": {},
   "outputs": [],
   "source": [
    "class Robot:\n",
    "    \"\"\"\n",
    "    A Robot class that simulates a robot in a 2D world.\n",
    "\n",
    "    Attributes:\n",
    "        world_size (float): Size of the square world.\n",
    "        landmarks (list of tuples): List of landmark coordinates [(x1, y1), (x2, y2), ...].\n",
    "        x (float): Current x-coordinate of the robot.\n",
    "        y (float): Current y-coordinate of the robot.\n",
    "        orientation (float): Current orientation of the robot in radians.\n",
    "        forward_noise (float): Noise level for forward movement.\n",
    "        turn_noise (float): Noise level for turning.\n",
    "        sense_noise (float): Noise level for sensing landmarks.\n",
    "    \"\"\"\n",
    "    def __init__(self, world_size, landmarks):\n",
    "        self.x = random.random() * world_size\n",
    "        self.y = random.random() * world_size\n",
    "        self.orientation = random.random() * 2.0 * pi\n",
    "        self.forward_noise = 0.0\n",
    "        self.turn_noise = 0.0\n",
    "        self.sense_noise = 0.0\n",
    "        self.world_size = world_size\n",
    "        self.landmarks = landmarks\n",
    "\n",
    "    def set(self, new_x, new_y, new_orientation):\n",
    "        if new_x < 0 or new_x >= self.world_size:\n",
    "            raise ValueError(\"X coordinate out of bound\")\n",
    "        if new_y < 0 or new_y >= self.world_size:\n",
    "            raise ValueError(\"Y coordinate out of bound\")\n",
    "        if new_orientation < 0 or new_orientation >= 2 * pi:\n",
    "            raise ValueError(\"Orientation must be in [0..2pi]\")\n",
    "        self.x = float(new_x)\n",
    "        self.y = float(new_y)\n",
    "        self.orientation = float(new_orientation)\n",
    "\n",
    "    def set_noise(self, forward_noise, turn_noise, sense_noise):\n",
    "        self.forward_noise = float(forward_noise)\n",
    "        self.turn_noise = float(turn_noise)\n",
    "        self.sense_noise = float(sense_noise)\n",
    "\n",
    "    def sense(self):\n",
    "        Z = []\n",
    "        for landmark in self.landmarks:\n",
    "            dist = sqrt((self.x - landmark[0]) ** 2 + (self.y - landmark[1]) ** 2)\n",
    "            dist += random.gauss(0.0, self.sense_noise)\n",
    "            Z.append(dist)\n",
    "        return Z\n",
    "\n",
    "    def move(self, turn, forward):\n",
    "        if forward < 0:\n",
    "            raise ValueError(\"Robot cannot move backwards\")\n",
    "\n",
    "        orientation = self.orientation + float(turn) + random.gauss(0.0, self.turn_noise)\n",
    "        orientation %= 2 * pi\n",
    "\n",
    "        dist = float(forward) + random.gauss(0.0, self.forward_noise)\n",
    "        x = self.x + cos(orientation) * dist\n",
    "        y = self.y + sin(orientation) * dist\n",
    "        x %= self.world_size\n",
    "        y %= self.world_size\n",
    "\n",
    "        res = Robot(self.world_size, self.landmarks)\n",
    "        res.set(x, y, orientation)\n",
    "        res.set_noise(self.forward_noise, self.turn_noise, self.sense_noise)\n",
    "        return res\n",
    "\n",
    "    def measurement_prob(self, measurement):\n",
    "        prob = 1.0\n",
    "        for i in range(len(self.landmarks)):\n",
    "            dist = sqrt((self.x - self.landmarks[i][0]) ** 2 + (self.y - self.landmarks[i][1]) ** 2)\n",
    "            prob *= self.gaussian(dist, self.sense_noise, measurement[i])\n",
    "        return prob\n",
    "\n",
    "    @staticmethod\n",
    "    def gaussian(mu, sigma, x):\n",
    "        return exp(- ((mu - x) ** 2) / (sigma ** 2) / 2.0) / sqrt(2.0 * pi * (sigma ** 2))"
   ]
  },
  {
   "cell_type": "code",
   "execution_count": 25,
   "metadata": {},
   "outputs": [],
   "source": [
    "\n",
    "class ParticleFilter:\n",
    "    \"\"\"\n",
    "    A Particle Filter class for implementing localization in a 2D world.\n",
    "\n",
    "    Attributes:\n",
    "        num_particles (int): Number of particles in the filter.\n",
    "        world_size (float): Size of the square world.\n",
    "        landmarks (list of tuples): List of landmark coordinates [(x1, y1), (x2, y2), ...].\n",
    "        particles (list of Robot): List of particles representing possible states of the robot.\n",
    "    \"\"\"\n",
    "    def __init__(self, num_particles, world_size, landmarks):\n",
    "        self.num_particles = num_particles\n",
    "        self.world_size = world_size\n",
    "        self.landmarks = landmarks\n",
    "        self.particles = [self.create_particle() for _ in range(num_particles)]\n",
    "\n",
    "    def create_particle(self):\n",
    "        particle = Robot(self.world_size, self.landmarks)\n",
    "        particle.set_noise(0.05, 0.05, 5.0)\n",
    "        return particle\n",
    "\n",
    "    def move_particles(self, turn, forward):\n",
    "        self.particles = [particle.move(turn, forward) for particle in self.particles]\n",
    "\n",
    "    def resample_particles(self, measurements):\n",
    "        weights = [particle.measurement_prob(measurements) for particle in self.particles]\n",
    "        max_weight = max(weights)\n",
    "\n",
    "        resampled_particles = []\n",
    "        index = int(random.random() * self.num_particles)\n",
    "        beta = 0.0\n",
    "\n",
    "        for _ in range(self.num_particles):\n",
    "            beta += random.random() * 2.2 * max_weight\n",
    "            while beta > weights[index]:\n",
    "                beta -= weights[index]\n",
    "                index = (index + 1) % self.num_particles\n",
    "            resampled_particles.append(self.particles[index])\n",
    "\n",
    "        self.particles = resampled_particles"
   ]
  },
  {
   "cell_type": "code",
   "execution_count": 26,
   "metadata": {},
   "outputs": [],
   "source": [
    "class Simulation:\n",
    "    \"\"\"\n",
    "    A Simulation class to simulate robot motion and localization using a particle filter.\n",
    "\n",
    "    Attributes:\n",
    "        world_size (float): Size of the square world.\n",
    "        landmarks (list of tuples): List of landmark coordinates\n",
    "        target (Robot): The target robot being tracked in the simulation.\n",
    "        particle_filter (ParticleFilter): Particle filter used for localization.\n",
    "    \"\"\"\n",
    "    def __init__(self, world_size, landmarks, num_particles, forward_noise, turn_noise, sense_noise):\n",
    "        self.world_size = world_size\n",
    "        self.landmarks = landmarks\n",
    "        self.target = Robot(world_size, landmarks)\n",
    "        self.target.set_noise(forward_noise, turn_noise, sense_noise)\n",
    "        self.target.set(30.0, 50.0, pi / 2)\n",
    "        self.particle_filter = ParticleFilter(num_particles, world_size, landmarks)\n",
    "\n",
    "    def plot_world(self, run_no):\n",
    "        plt.clf()\n",
    "        landmark_x, landmark_y = zip(*self.landmarks)\n",
    "        plt.scatter(landmark_x, landmark_y, color=\"b\", marker='s')\n",
    "        particle_x = [particle.x for particle in self.particle_filter.particles]\n",
    "        particle_y = [particle.y for particle in self.particle_filter.particles]\n",
    "        plt.scatter(particle_x, particle_y, color=\"r\")\n",
    "        plt.scatter(self.target.x, self.target.y, color=\"g\")\n",
    "        plt.xlim(0, self.world_size)\n",
    "        plt.ylim(0, self.world_size)\n",
    "        plt.text(1, 1, f\"Run {run_no+1}\", fontsize=15)\n",
    "        plt.xlabel(\"x-direction\")\n",
    "        plt.ylabel(\"y-direction\")\n",
    "        if run_no == 0 or run_no == 9:\n",
    "            plt.savefig(f'snap_{run_no}.png', bbox_inches='tight')\n",
    "\n",
    "    def run(self, runs, step_size, turn_size):\n",
    "        for run_no in range(runs):\n",
    "            self.plot_world(run_no)\n",
    "            self.target = self.target.move(turn_size, step_size)\n",
    "            measurements = self.target.sense()\n",
    "            self.particle_filter.move_particles(turn_size, step_size)\n",
    "            self.particle_filter.resample_particles(measurements)"
   ]
  },
  {
   "cell_type": "code",
   "execution_count": 27,
   "metadata": {},
   "outputs": [],
   "source": [
    "fig = plt.figure(figsize=(10, 10))\n",
    "\n",
    "world_size = 100.0\n",
    "landmarks = [[20.0, 20.0], [80.0, 80.0], [20.0, 80.0], [80.0, 20.0]]\n",
    "num_particles = 20\n",
    "forward_noise = 4.0\n",
    "turn_noise = 0.2\n",
    "sense_noise = 5.0"
   ]
  },
  {
   "cell_type": "code",
   "execution_count": 28,
   "metadata": {},
   "outputs": [],
   "source": [
    "simulation = Simulation(world_size, landmarks, num_particles, forward_noise, turn_noise, sense_noise)"
   ]
  },
  {
   "cell_type": "code",
   "execution_count": 29,
   "metadata": {},
   "outputs": [],
   "source": [
    "simulation.run(runs=10, step_size=1, turn_size=0.4)\n",
    "plt.close(fig)"
   ]
  },
  {
   "cell_type": "code",
   "execution_count": 31,
   "metadata": {},
   "outputs": [
    {
     "data": {
      "image/png": "[encoded data removed]",
      "text/plain": [
       "<Figure size 640x480 with 1 Axes>"
      ]
     },
     "metadata": {},
     "output_type": "display_data"
    },
    {
     "data": {
      "image/png": "[encoded data removed]",
      "text/plain": [
       "<Figure size 640x480 with 1 Axes>"
      ]
     },
     "metadata": {},
     "output_type": "display_data"
    }
   ],
   "source": [
    "import matplotlib.image as mpimg\n",
    "%matplotlib inline\n",
    "\n",
    "image1 = mpimg.imread('snap_0.png')\n",
    "image2 = mpimg.imread('snap_9.png')\n",
    "\n",
    "plt.imshow(image1)\n",
    "plt.axis('off')\n",
    "plt.show()\n",
    "plt.imshow(image2)\n",
    "plt.axis('off')\n",
    "plt.show()"
   ]
  },
  {
   "cell_type": "code",
   "execution_count": null,
   "metadata": {},
   "outputs": [],
   "source": []
  }
 ],
 "metadata": {
  "kernelspec": {
   "display_name": "algorise-chatbot",
   "language": "python",
   "name": "python3"
  },
  "language_info": {
   "codemirror_mode": {
    "name": "ipython",
    "version": 3
   },
   "file_extension": ".py",
   "mimetype": "text/x-python",
   "name": "python",
   "nbconvert_exporter": "python",
   "pygments_lexer": "ipython3",
   "version": "3.11.9"
  }
 },
 "nbformat": 4,
 "nbformat_minor": 2
}
